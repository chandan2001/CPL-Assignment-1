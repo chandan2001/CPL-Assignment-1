{
 "cells": [
  {
   "cell_type": "markdown",
   "metadata": {},
   "source": [
    "# Question 1"
   ]
  },
  {
   "cell_type": "code",
   "execution_count": 1,
   "metadata": {},
   "outputs": [
    {
     "name": "stdin",
     "output_type": "stream",
     "text": [
      "Enter a natural number 9\n"
     ]
    },
    {
     "name": "stdout",
     "output_type": "stream",
     "text": [
      "The sum of first 9 odd numbers is 45\n"
     ]
    }
   ],
   "source": [
    "#############################################################################\n",
    "\n",
    "# Question 1(a): Sum of first N natural numbers\n",
    "\n",
    "%run CPL_Library.ipynb # Running the entire library in one line because \n",
    "                        # importing does not work with JupyterLab\n",
    "\n",
    "# taking input from the user\n",
    "n=input(\"Enter a natural number : \")\n",
    "\n",
    "# Checking for validity\n",
    "n=check_natural_number(n)\n",
    "\n",
    "if n!='F':\n",
    "    sum_natural_numbers(n)\n",
    "\n",
    "#############################################################################\n"
   ]
  },
  {
   "cell_type": "code",
   "execution_count": 7,
   "metadata": {},
   "outputs": [
    {
     "name": "stdout",
     "output_type": "stream",
     "text": [
      "\n",
      "Value of n given : 3\n",
      "Output: \n",
      "The sum of first 3 odd numbers is 6\n",
      "\n",
      "Value of n given : -19\n",
      "Output: \n",
      "Invalid input. Please enter a natural number.\n",
      "\n",
      "Value of n given : 42\n",
      "Output: \n",
      "The sum of first 42 odd numbers is 903\n",
      "\n",
      "Value of n given : abc\n",
      "Output: \n",
      "Invalid input. Please enter a natural number.\n",
      "\n",
      "Value of n given : 250\n",
      "Output: \n",
      "The sum of first 250 odd numbers is 31375\n",
      "\n",
      "Value of n given : 0\n",
      "Output: \n",
      "Invalid input. Please enter a natural number.\n"
     ]
    }
   ],
   "source": [
    "%run CPL_Library.ipynb # Running the entire library in one line because \n",
    "                        # importing does not work with JupyterLab\n",
    "\n",
    "# array of input\n",
    "n=['3', '-19', '42', 'abc', '250', '0']\n",
    "\n",
    "for i in range(len(n)):\n",
    "    print(\"\\nValue of n given : \" + n[i])\n",
    "    print(\"Output: \")\n",
    "    n[i]=check_natural_number(n[i])\n",
    "    if n[i]!='F':\n",
    "        sum_natural_numbers(n[i])"
   ]
  },
  {
   "cell_type": "code",
   "execution_count": 9,
   "metadata": {},
   "outputs": [
    {
     "name": "stdin",
     "output_type": "stream",
     "text": [
      "Enter a natural number :  6\n"
     ]
    },
    {
     "name": "stdout",
     "output_type": "stream",
     "text": [
      "The sum of first 6 odd numbers is 36\n"
     ]
    }
   ],
   "source": [
    "\n",
    "#############################################################################\n",
    "\n",
    "# Question 1(b): Sum of first N odd natural numbers\n",
    "%run CPL_Library.ipynb\n",
    "\n",
    "# taking input from the user\n",
    "n=input(\"Enter a natural number : \")\n",
    "\n",
    "# Checking for validity\n",
    "n=check_natural_number(n)\n",
    "if n!='F':\n",
    "    sum_odd_numbers(n)\n",
    "\n",
    "#############################################################################\n"
   ]
  },
  {
   "cell_type": "code",
   "execution_count": 10,
   "metadata": {},
   "outputs": [
    {
     "name": "stdout",
     "output_type": "stream",
     "text": [
      "\n",
      "Value of n given : 3\n",
      "Output: \n",
      "The sum of first 3 odd numbers is 9\n",
      "\n",
      "Value of n given : -19\n",
      "Output: \n",
      "Invalid input. Please enter a natural number.\n",
      "\n",
      "Value of n given : 42\n",
      "Output: \n",
      "The sum of first 42 odd numbers is 1764\n",
      "\n",
      "Value of n given : abc\n",
      "Output: \n",
      "Invalid input. Please enter a natural number.\n",
      "\n",
      "Value of n given : 250\n",
      "Output: \n",
      "The sum of first 250 odd numbers is 62500\n",
      "\n",
      "Value of n given : 0\n",
      "Output: \n",
      "Invalid input. Please enter a natural number.\n"
     ]
    }
   ],
   "source": [
    "%run CPL_Library.ipynb # Running the entire library in one line because \n",
    "                        # importing does not work with JupyterLab\n",
    "\n",
    "# array of input\n",
    "n=['3', '-19', '42', 'abc', '250', '0']\n",
    "\n",
    "for i in range(len(n)):\n",
    "    print(\"\\nValue of n given : \" + n[i])\n",
    "    print(\"Output: \")\n",
    "    n[i]=check_natural_number(n[i])\n",
    "    if n[i]!='F':\n",
    "        sum_odd_numbers(n[i])"
   ]
  },
  {
   "cell_type": "markdown",
   "metadata": {},
   "source": [
    "# Question 2"
   ]
  },
  {
   "cell_type": "code",
   "execution_count": 12,
   "metadata": {},
   "outputs": [
    {
     "name": "stdin",
     "output_type": "stream",
     "text": [
      "Enter first term of AP:  5\n",
      "Enter a number of terms:  3\n"
     ]
    },
    {
     "name": "stdout",
     "output_type": "stream",
     "text": [
      "Common difference is : 1.5\n",
      "\n",
      "The sum of first 3 terms of an AP is 19.5\n"
     ]
    }
   ],
   "source": [
    "\n",
    "#############################################################################\n",
    "\n",
    "# Question 2(a): Sum of first N entries of an AP\n",
    "\n",
    "%run CPL_Library.ipynb # Running the entire library in one line because \n",
    "                        # importing does not work with JupyterLab\n",
    "\n",
    "# taking input from the user\n",
    "a=input(\"Enter first term of AP: \")\n",
    "n=input(\"Enter a number of terms: \")\n",
    "\n",
    "# Checking for validity\n",
    "a=check_number(a)\n",
    "n=check_natural_number(n)\n",
    "\n",
    "if (a!='F' and n!='F'):\n",
    "    sum_AP(a,n)\n",
    "\n",
    "#############################################################################\n"
   ]
  },
  {
   "cell_type": "code",
   "execution_count": 13,
   "metadata": {},
   "outputs": [
    {
     "name": "stdout",
     "output_type": "stream",
     "text": [
      "\n",
      "Value of n given : 3\n",
      "Output: \n",
      "Common difference is : 1.5\n",
      "\n",
      "The sum of first 3 terms of an AP is -1.5\n",
      "\n",
      "Value of n given : -19\n",
      "Output: \n",
      "Invalid input. Please enter a natural number.\n",
      "\n",
      "Value of n given : 42\n",
      "Output: \n",
      "Common difference is : 1.5\n",
      "\n",
      "The sum of first 42 terms of an AP is 1501.5\n",
      "\n",
      "Value of n given : abc\n",
      "Output: \n",
      "Invalid input. Please enter a natural number.\n",
      "\n",
      "Value of n given : 250\n",
      "Output: \n",
      "Common difference is : 1.5\n",
      "\n",
      "The sum of first 250 terms of an AP is 48562.5\n",
      "\n",
      "Value of n given : 0\n",
      "Output: \n",
      "Invalid input. Please enter a natural number.\n"
     ]
    }
   ],
   "source": [
    "%run CPL_Library.ipynb # Running the entire library in one line because \n",
    "                        # importing does not work with JupyterLab\n",
    "\n",
    "# array of input\n",
    "a=['-2', '1', '5', '2.3', '7.5', '10']\n",
    "n=['3', '-19', '14', 'abc', '25', '0']\n",
    "\n",
    "for i in range(len(n)):\n",
    "    print(\"\\nValue of n given : \" + n[i])\n",
    "    print(\"Output: \")\n",
    "    a[i]=check_number(a[i])\n",
    "    n[i]=check_natural_number(n[i])\n",
    "    if (a[i]!='F' and n[i]!='F'):\n",
    "        sum_AP(a[i],n[i])\n"
   ]
  },
  {
   "cell_type": "code",
   "execution_count": 14,
   "metadata": {},
   "outputs": [
    {
     "name": "stdin",
     "output_type": "stream",
     "text": [
      "Enter first term of GP:  3\n",
      "Enter number of terms:  5\n"
     ]
    },
    {
     "name": "stdout",
     "output_type": "stream",
     "text": [
      "Common ratio is : 0.5\n",
      "\n",
      "The sum of first 5 terms of an GP is 5.8125\n"
     ]
    }
   ],
   "source": [
    "\n",
    "#############################################################################\n",
    "\n",
    "# Question 2(b): Sum of first N terms of a GP\n",
    "\n",
    "%run CPL_Library.ipynb # Running the entire library in one line because \n",
    "                        # importing does not work with JupyterLab\n",
    "\n",
    "# taking input from the user\n",
    "a=input(\"Enter first term of GP: \")\n",
    "n=input(\"Enter number of terms: \")\n",
    "\n",
    "# Checking for validity\n",
    "a=check_number(a)\n",
    "n=check_natural_number(n)\n",
    "r=0.5\n",
    "if (a!='F' and n!='F'):\n",
    "    sum_GP(a,n,r)\n",
    "\n",
    "#############################################################################\n"
   ]
  },
  {
   "cell_type": "code",
   "execution_count": 15,
   "metadata": {},
   "outputs": [
    {
     "name": "stdout",
     "output_type": "stream",
     "text": [
      "\n",
      "Value of n given : 3\n",
      "Output: \n",
      "Common ratio is : 0.5\n",
      "\n",
      "The sum of first 3 terms of an GP is -3.5\n",
      "\n",
      "Value of n given : -19\n",
      "Output: \n",
      "Invalid input. Please enter a natural number.\n",
      "\n",
      "Value of n given : 14\n",
      "Output: \n",
      "Common ratio is : 0.5\n",
      "\n",
      "The sum of first 14 terms of an GP is 9.9993896484375\n",
      "\n",
      "Value of n given : abc\n",
      "Output: \n",
      "Invalid input. Please enter a natural number.\n",
      "\n",
      "Value of n given : 25\n",
      "Output: \n",
      "Common ratio is : 0.5\n",
      "\n",
      "The sum of first 25 terms of an GP is 14.999999552965164\n",
      "\n",
      "Value of n given : 0\n",
      "Output: \n",
      "Invalid input. Please enter a natural number.\n"
     ]
    }
   ],
   "source": [
    "%run CPL_Library.ipynb # Running the entire library in one line because \n",
    "                        # importing does not work with JupyterLab\n",
    "\n",
    "# array of input\n",
    "a=['-2', '1', '5', '2.3', '7.5', '10']\n",
    "n=['3', '-19', '14', 'abc', '25', '0']\n",
    "\n",
    "for i in range(len(n)):\n",
    "    print(\"\\nValue of n given : \" + n[i])\n",
    "    print(\"Output: \")\n",
    "    a[i]=check_number(a[i])\n",
    "    n[i]=check_natural_number(n[i])\n",
    "    if (a[i]!='F' and n[i]!='F'):\n",
    "        sum_GP(a[i],n[i])\n"
   ]
  },
  {
   "cell_type": "code",
   "execution_count": 8,
   "metadata": {},
   "outputs": [
    {
     "name": "stdin",
     "output_type": "stream",
     "text": [
      "Enter first term of HP:  3\n",
      "Enter number of terms:  3\n"
     ]
    },
    {
     "name": "stdout",
     "output_type": "stream",
     "text": [
      "\n",
      "The sum of first 3 terms of an HP is 0.7222222222222222\n"
     ]
    }
   ],
   "source": [
    "\n",
    "#############################################################################\n",
    "\n",
    "# Question 2(c): Sum of first N terms of a HP\n",
    "\n",
    "%run CPL_Library.ipynb # Running the entire library in one line because \n",
    "                        # importing does not work with JupyterLab\n",
    "\n",
    "# taking input from the user\n",
    "a=input(\"Enter first term of HP: \")\n",
    "n=input(\"Enter number of terms: \")\n",
    "\n",
    "# Checking for validity\n",
    "a=check_number(a)\n",
    "n=check_natural_number(n)\n",
    "\n",
    "if (a!='F' and n!='F'):\n",
    "    sum_HP(a,n)\n",
    "\n",
    "#############################################################################\n"
   ]
  },
  {
   "cell_type": "code",
   "execution_count": 32,
   "metadata": {},
   "outputs": [
    {
     "name": "stdout",
     "output_type": "stream",
     "text": [
      "\n",
      "Value of n given : 3\n",
      "Output: \n",
      "Common difference is : 1.5\n",
      "\n",
      "The sum of first 3 terms of an HP is -1.5\n",
      "\n",
      "Value of n given : -19\n",
      "Output: \n",
      "Invalid input. Please enter a natural number.\n",
      "\n",
      "Value of n given : 14\n",
      "Output: \n",
      "Common difference is : 1.5\n",
      "\n",
      "The sum of first 14 terms of an HP is 1.184646901883784\n",
      "\n",
      "Value of n given : abc\n",
      "Output: \n",
      "Invalid input. Please enter a natural number.\n",
      "\n",
      "Value of n given : 25\n",
      "Output: \n",
      "Common difference is : 1.5\n",
      "\n",
      "The sum of first 25 terms of an HP is 1.2522136428358162\n",
      "\n",
      "Value of n given : 0\n",
      "Output: \n",
      "Invalid input. Please enter a natural number.\n"
     ]
    }
   ],
   "source": [
    "%run CPL_Library.ipynb # Running the entire library in one line because \n",
    "                        # importing does not work with JupyterLab\n",
    "\n",
    "# array of input\n",
    "a=['-2', '1', '5', '2.3', '7.5', '10']\n",
    "n=['3', '-19', '14', 'abc', '25', '0']\n",
    "\n",
    "for i in range(len(n)):\n",
    "    print(\"\\nValue of n given : \" + n[i])\n",
    "    print(\"Output: \")\n",
    "    a[i]=check_number(a[i])\n",
    "    n[i]=check_natural_number(n[i])\n",
    "    if (a[i]!='F' and n[i]!='F'):\n",
    "        sum_HP(a[i],n[i])\n"
   ]
  },
  {
   "cell_type": "markdown",
   "metadata": {},
   "source": [
    "# Question 3"
   ]
  },
  {
   "cell_type": "code",
   "execution_count": 45,
   "metadata": {},
   "outputs": [
    {
     "name": "stdin",
     "output_type": "stream",
     "text": [
      "Enter a natural number :  7\n"
     ]
    },
    {
     "name": "stdout",
     "output_type": "stream",
     "text": [
      "Factorial of 7 is : 5040\n"
     ]
    }
   ],
   "source": [
    "# #############################################################################\n",
    "\n",
    "# Question 3: Factorial of a number\n",
    "\n",
    "%run CPL_Library.ipynb # Running the entire library in one line because \n",
    "                        # importing does not work with JupyterLab\n",
    "\n",
    "# taking input from the user\n",
    "n=input(\"Enter a natural number : \")\n",
    "\n",
    "# Checking for validity\n",
    "n=check_natural_number(n)\n",
    "if n!='F':\n",
    "    # finding factorial of 0 separately and other natural numbers separately\n",
    "    if n=='zero':\n",
    "        print(\"Factorial of 0 is : 1\")\n",
    "    elif n!='F':\n",
    "        print(\"Factorial of \" + str(n) + \" is : \" + str(FACTORIAL(n)))\n",
    "\n",
    "#############################################################################\n"
   ]
  },
  {
   "cell_type": "code",
   "execution_count": 44,
   "metadata": {},
   "outputs": [
    {
     "name": "stdout",
     "output_type": "stream",
     "text": [
      "\n",
      "Value of n given : 3\n",
      "Output: \n",
      "Factorial of 3 is : 6\n",
      "\n",
      "Value of n given : -19\n",
      "Output: \n",
      "Invalid input. Please enter a natural number.\n",
      "\n",
      "Value of n given : 7\n",
      "Output: \n",
      "Factorial of 7 is : 5040\n",
      "\n",
      "Value of n given : abc\n",
      "Output: \n",
      "Invalid input. Please enter a natural number.\n",
      "\n",
      "Value of n given : 20\n",
      "Output: \n",
      "Factorial of 20 is : 2432902008176640000\n",
      "\n",
      "Value of n given : 0\n",
      "Output: \n",
      "Factorial of 0 is : 1\n"
     ]
    }
   ],
   "source": [
    "%run CPL_Library.ipynb # Running the entire library in one line because \n",
    "                        # importing does not work with JupyterLab\n",
    "\n",
    "# array of input\n",
    "n=['3', '-19', '7', 'abc', '20', '0']\n",
    "\n",
    "for i in range(len(n)):\n",
    "    print(\"\\nValue of n given : \" + n[i])\n",
    "    print(\"Output: \")\n",
    "\n",
    "    # Checking for validity\n",
    "    n[i]=check_natural_number(n[i])\n",
    "    if n[i]!='F':\n",
    "        # finding factorial of 0 separately and other natural numbers separately\n",
    "        if n[i]=='zero':\n",
    "            print(\"Factorial of 0 is : 1\")\n",
    "        elif n!='F':\n",
    "            print(\"Factorial of \" + str(n[i]) + \" is : \" + str(FACTORIAL(n[i])))\n"
   ]
  },
  {
   "cell_type": "markdown",
   "metadata": {},
   "source": [
    "# Question 4"
   ]
  },
  {
   "cell_type": "code",
   "execution_count": 51,
   "metadata": {},
   "outputs": [
    {
     "name": "stdin",
     "output_type": "stream",
     "text": [
      "Enter argument for sine function :  y\n"
     ]
    },
    {
     "name": "stdout",
     "output_type": "stream",
     "text": [
      "Invalid input. Please enter a number.\n"
     ]
    }
   ],
   "source": [
    "\n",
    "#############################################################################\n",
    "\n",
    "# Question 4(a): Sine function\n",
    "\n",
    "%run CPL_Library.ipynb # Running the entire library in one line because \n",
    "                        # importing does not work with JupyterLab\n",
    "\n",
    "# taking input from the user\n",
    "x=input(\"Enter argument for sine function : \")\n",
    "\n",
    "# Checking for validity\n",
    "x=check_number(x)\n",
    "\n",
    "if x!='F':\n",
    "    eps=10**-6\n",
    "    i=1\n",
    "    \n",
    "    # the loop runs till the function value doesn't match with the actual value\n",
    "    # of sin(x) and terminates as it matches upto desired decimal places\n",
    "    while abs(SINE(x,i)-math.sin(x))>eps:\n",
    "        i+=1\n",
    "    print(\"\\nsin(\" + str(x) + \") = \" + str(SINE(x,i)))\n",
    "    print(\"The value is accurate atleast upto 4 decimal places\")\n",
    "\n",
    "#############################################################################\n"
   ]
  },
  {
   "cell_type": "code",
   "execution_count": 54,
   "metadata": {},
   "outputs": [
    {
     "name": "stdout",
     "output_type": "stream",
     "text": [
      "\n",
      "Value of n given : 0.5\n",
      "Output: \n",
      "sin(0.5) = 0.479425533234127\n",
      "The value is accurate atleast upto 4 decimal places\n",
      "\n",
      "Value of n given : -1\n",
      "Output: \n",
      "sin(-1.0) = -0.8414710097001764\n",
      "The value is accurate atleast upto 4 decimal places\n",
      "\n",
      "Value of n given : 1.2\n",
      "Output: \n",
      "sin(1.2) = 0.9320392703999999\n",
      "The value is accurate atleast upto 4 decimal places\n",
      "\n",
      "Value of n given : abc\n",
      "Output: \n",
      "Invalid input. Please enter a number.\n",
      "\n",
      "Value of n given : 4\n",
      "Output: \n",
      "sin(4.0) = -0.7568025787396139\n",
      "The value is accurate atleast upto 4 decimal places\n",
      "\n",
      "Value of n given : 0\n",
      "Output: \n",
      "sin(0.0) = 0.0\n",
      "The value is accurate atleast upto 4 decimal places\n"
     ]
    }
   ],
   "source": [
    "%run CPL_Library.ipynb # Running the entire library in one line because \n",
    "                        # importing does not work with JupyterLab\n",
    "\n",
    "# array of input\n",
    "x=['0.5', '-1', '1.2', 'abc', '4', '0']\n",
    "eps=10**-6\n",
    "for j in range(len(x)):\n",
    "    print(\"\\nValue of n given : \" + x[j])\n",
    "    print(\"Output: \")\n",
    "\n",
    "    # Checking for validity\n",
    "    x[j]=check_number(x[j])\n",
    "\n",
    "    if x[j]!='F':\n",
    "        i=1\n",
    "    \n",
    "        # the loop runs till the function value doesn't match with the actual value\n",
    "        # of sin(x) and terminates as it matches upto desired decimal places\n",
    "        while abs(SINE(x[j],i)-math.sin(x[j]))>eps:\n",
    "            i+=1\n",
    "        print(\"sin(\" + str(x[j]) + \") = \" + str(SINE(x[j],i)))\n",
    "        print(\"The value is accurate atleast upto 4 decimal places\")\n"
   ]
  },
  {
   "cell_type": "code",
   "execution_count": 56,
   "metadata": {},
   "outputs": [
    {
     "name": "stdin",
     "output_type": "stream",
     "text": [
      "Enter argument for inverse of exponential function :  5\n"
     ]
    },
    {
     "name": "stdout",
     "output_type": "stream",
     "text": [
      "\n",
      "exp(-5.0) = 0.006738328152479823\n",
      "The value is accurate atleast upto 4 decimal places\n"
     ]
    }
   ],
   "source": [
    "\n",
    "#############################################################################\n",
    "\n",
    "# Question 4(a): Inverse of exponential function\n",
    "\n",
    "%run CPL_Library.ipynb # Running the entire library in one line because \n",
    "                        # importing does not work with JupyterLab\n",
    "\n",
    "# taking input from the user\n",
    "x=input(\"Enter argument for inverse of exponential function : \")\n",
    "\n",
    "# Checking for validity\n",
    "x=check_number(x)\n",
    "\n",
    "if int(x)!=False:\n",
    "    eps=10**-6\n",
    "    i=1\n",
    "    \n",
    "    # the loop runs till the function value doesn't match with the actual value\n",
    "    # of exp(-x) and terminates as it matches upto desired decimal places\n",
    "    while abs(EXP(x,i)-math.exp(-x))>eps:\n",
    "        i+=1\n",
    "    print(\"\\nexp(-\" + str(x) + \") = \" + str(EXP(x,i)))\n",
    "    print(\"The value is accurate atleast upto 4 decimal places\")\n",
    "\n",
    "#############################################################################\n"
   ]
  },
  {
   "cell_type": "code",
   "execution_count": 57,
   "metadata": {},
   "outputs": [
    {
     "name": "stdout",
     "output_type": "stream",
     "text": [
      "\n",
      "Value of n given : 0.5\n",
      "Output: \n",
      "exp(-0.5) = 0.6041666666666666\n",
      "The value is accurate atleast upto 4 decimal places\n",
      "\n",
      "Value of n given : -1\n",
      "Output: \n",
      "exp(--1.0) = 2.708333333333333\n",
      "The value is accurate atleast upto 4 decimal places\n",
      "\n",
      "Value of n given : 1.2\n",
      "Output: \n",
      "exp(-1.2) = 0.3184\n",
      "The value is accurate atleast upto 4 decimal places\n",
      "\n",
      "Value of n given : abc\n",
      "Output: \n",
      "Invalid input. Please enter a number.\n",
      "\n",
      "Value of n given : 4\n",
      "Output: \n",
      "exp(-4.0) = -0.19223985890652528\n",
      "The value is accurate atleast upto 4 decimal places\n",
      "\n",
      "Value of n given : 0\n",
      "Output: \n",
      "exp(-0.0) = 1.0\n",
      "The value is accurate atleast upto 4 decimal places\n"
     ]
    }
   ],
   "source": [
    "%run CPL_Library.ipynb # Running the entire library in one line because \n",
    "                        # importing does not work with JupyterLab\n",
    "\n",
    "# array of input\n",
    "x=['0.5', '-1', '1.2', 'abc', '4', '0']\n",
    "eps=10**-6\n",
    "for j in range(len(x)):\n",
    "    print(\"\\nValue of n given : \" + x[j])\n",
    "    print(\"Output: \")\n",
    "\n",
    "    # Checking for validity\n",
    "    x[j]=check_number(x[j])\n",
    "\n",
    "    if x[j]!='F':\n",
    "        i=1\n",
    "    \n",
    "        # the loop runs till the function value doesn't match with the actual value\n",
    "        # of exp(x) and terminates as it matches upto desired decimal places\n",
    "        while abs(SINE(x[j],i)-math.sin(x[j]))>eps:\n",
    "            i+=1\n",
    "        print(\"exp(-\" + str(x[j]) + \") = \" + str(EXP(x[j],i)))\n",
    "        print(\"The value is accurate atleast upto 4 decimal places\")\n"
   ]
  },
  {
   "cell_type": "markdown",
   "metadata": {},
   "source": [
    "# Plotting the errors"
   ]
  },
  {
   "cell_type": "code",
   "execution_count": 61,
   "metadata": {},
   "outputs": [
    {
     "data": {
      "image/png": "[encoded data removed]",
      "text/plain": [
       "<Figure size 648x432 with 1 Axes>"
      ]
     },
     "metadata": {
      "needs_background": "light"
     },
     "output_type": "display_data"
    }
   ],
   "source": [
    "\n",
    "#############################################################################\n",
    "\n",
    "# Question 4(b): Plotting of error of Sine function\n",
    "\n",
    "%run CPL_Library.ipynb # Running the entire library in one line because \n",
    "                        # importing does not work with JupyterLab\n",
    "\n",
    "import math\n",
    "import matplotlib.pyplot as plt\n",
    "plt.figure(figsize=(9,6))\n",
    "\n",
    "eps=10**-6 # value of epsilon - decimal places upto which accuracy is desired\n",
    "\n",
    "color=['b-o', 'r-o', 'g-o', 'k-o', 'y-o'] # array of colors for plotting\n",
    "\n",
    "argument=[1, 1.7, 2.7, 3.1416, 4] # array of arguments given for comparison\n",
    "\n",
    "for j in range(len(argument)):\n",
    "    # initializing two arrays to store indices and errors\n",
    "    index=[] \n",
    "    error=[]\n",
    "    \n",
    "    x=argument[j] # argument if sine function\n",
    "    i=1\n",
    "    \n",
    "    # the loop runs till the value doesn't match with\n",
    "    # the actual value of sine and terminates as it matches\n",
    "    # upto desired decimal places\n",
    "    while abs(SINE(x,i)-math.sin(x))>eps:\n",
    "        index.append(i)\n",
    "        error.append(abs(SINE(x,i)-math.sin(x)))\n",
    "        i+=1\n",
    "    plt.plot(index, error, color[j], label='sin('+str(x)+')')\n",
    "\n",
    "plt.grid(color='g', ls = '-.', lw = 0.5)\n",
    "plt.xlabel('No. of terms in taylor expansion')\n",
    "plt.ylabel('Error')\n",
    "plt.title('Error vs No. of terms curve')\n",
    "plt.legend()\n",
    "plt.show()\n",
    "\n",
    "#############################################################################\n"
   ]
  },
  {
   "cell_type": "code",
   "execution_count": 62,
   "metadata": {},
   "outputs": [
    {
     "data": {
      "image/png": "[encoded data removed]",
      "text/plain": [
       "<Figure size 648x432 with 1 Axes>"
      ]
     },
     "metadata": {
      "needs_background": "light"
     },
     "output_type": "display_data"
    }
   ],
   "source": [
    "\n",
    "#############################################################################\n",
    "\n",
    "# Question 4(b): Plotting of error of Sine function\n",
    "\n",
    "%run CPL_Library.ipynb # Running the entire library in one line because \n",
    "                        # importing does not work with JupyterLab\n",
    "\n",
    "import math\n",
    "import matplotlib.pyplot as plt\n",
    "plt.figure(figsize=(9,6))\n",
    "\n",
    "eps=10**-6 # value of epsilon - decimal places upto which accuracy is desired\n",
    "\n",
    "color=['b-o', 'r-o', 'g-o', 'k-o', 'y-o'] # array of colors for plotting\n",
    "\n",
    "argument=[1, 1.8, 2.7, 3.3, 4] # array of arguments given for comparison\n",
    "\n",
    "for j in range(len(argument)):\n",
    "    # initializing two arrays to store indices and errors\n",
    "    index=[] \n",
    "    error=[]\n",
    "    \n",
    "    x=argument[j] # argument if sine function\n",
    "    i=1\n",
    "    \n",
    "    # the loop runs till the value doesn't match with\n",
    "    # the actual value of sine and terminates as it matches\n",
    "    # upto desired decimal places\n",
    "    while abs(EXP(x,i)-math.exp(-x))>eps:\n",
    "        index.append(i)\n",
    "        error.append(abs(EXP(x,i)-math.exp(-x)))\n",
    "        i+=1\n",
    "    plt.plot(index, error, color[j], label='exp(-'+str(x)+')')\n",
    "\n",
    "plt.grid(color='g', ls = '-.', lw = 0.5)\n",
    "plt.xlabel('No. of terms in taylor expansion')\n",
    "plt.ylabel('Error')\n",
    "plt.title('Error vs No. of terms curve')\n",
    "plt.legend()\n",
    "plt.show()\n",
    "\n",
    "#############################################################################\n"
   ]
  },
  {
   "cell_type": "code",
   "execution_count": null,
   "metadata": {},
   "outputs": [],
   "source": []
  }
 ],
 "metadata": {
  "kernelspec": {
   "display_name": "Python 3",
   "language": "python",
   "name": "python3"
  },
  "language_info": {
   "codemirror_mode": {
    "name": "ipython",
    "version": 3
   },
   "file_extension": ".py",
   "mimetype": "text/x-python",
   "name": "python",
   "nbconvert_exporter": "python",
   "pygments_lexer": "ipython3",
   "version": "3.7.6"
  }
 },
 "nbformat": 4,
 "nbformat_minor": 4
}
